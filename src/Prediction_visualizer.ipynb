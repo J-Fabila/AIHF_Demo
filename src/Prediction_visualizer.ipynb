{
 "cells": [
  {
   "cell_type": "code",
   "execution_count": null,
   "id": "f93640b3",
   "metadata": {},
   "outputs": [],
   "source": [
    "import sys\n",
    "import torch\n",
    "import matplotlib.pyplot as plt\n",
    "from utils import Parameters\n",
    "from model_wrapper import ModelWrapper\n",
    "from dataloaders import LightningWrapperData\n"
   ]
  },
  {
   "cell_type": "code",
   "execution_count": null,
   "id": "f222391a-e882-45d2-83d9-15ecfa23abb5",
   "metadata": {},
   "outputs": [],
   "source": [
    "config_file =  \"../configs/test.yaml\"\n",
    "\n",
    "#if len(sys.argv) > 1:\n",
    "#    params = Parameters()\n",
    "#    config_file = sys.argv[1]\n",
    "#    params.GetParams(config_file)\n",
    "#else:\n",
    "#    print(\"*.yaml input file needed as command line argument\")\n",
    "#    exit()\n",
    "\n",
    "params = Parameters()\n",
    "#config_file = sys.argv[1]\n",
    "params.GetParams(config_file)\n",
    "print(params.n_classes) #.keys())\n",
    "\n",
    "model = ModelWrapper(params)\n",
    "model.load(params.load_checkpoint)\n",
    "\n",
    "dataset = LightningWrapperData(params)\n",
    "dataset.setup(\"train\")\n",
    "testing = dataset.test_dataloader()\n",
    "\n",
    "predictions = []\n",
    "inputs = []\n",
    "targets = []\n",
    "contador = 0\n",
    "with torch.no_grad():\n",
    "    for batch in testing:\n",
    "        input_ = batch[\"image\"]\n",
    "        target = batch[params.target_label]\n",
    "        pred = model.forward(input_)\n",
    "#            print(\" SHAPES DEL BATCH\")\n",
    "#            print(\"inputs\",input.shape)\n",
    "#            print(\"target\",target.shape)\n",
    "        print(\"pred\", pred.shape, pred.max())\n",
    "        inputs.append(input_)\n",
    "        targets.append(target)\n",
    "        predictions.append(pred)\n",
    "        contador = contador +1\n",
    "        if contador > 10:\n",
    "            break\n",
    "    \n",
    "_pred = torch.cat(predictions, dim=0)\n",
    "all_pred = torch.argmax(_pred,dim=1)\n",
    "all_in = torch.cat(inputs,dim=0)\n",
    "all_tar = torch.cat(targets, dim=0)\n",
    "data = {\"predictions\":all_pred, \"all_inputs\":all_in, \"all_targets\":all_tar}\n",
    "# Temporalmente queda algo cutre pero después agrégale una os.path join y tal\n",
    "# Alternativamente podríamos agregar otra variable que tenga libertad de elegir\n",
    "# el nombre pero ya me parece un poco innecesario para usar con params.log_path\n",
    "torch.save(data, \"prediction.pt\")\n"
   ]
  },
  {
   "cell_type": "code",
   "execution_count": null,
   "id": "a2502ba4",
   "metadata": {},
   "outputs": [],
   "source": [
    "predictions = torch.load(\"prediction.pt\")"
   ]
  },
  {
   "cell_type": "code",
   "execution_count": null,
   "id": "8b02007d",
   "metadata": {},
   "outputs": [],
   "source": [
    "for muestra in range(len(predictions[\"all_inputs\"])):\n",
    "    fig, axs = plt.subplots(1, 3, figsize=(15, 5))\n",
    "\n",
    "    im1 = axs[0].imshow(predictions[\"all_inputs\"][muestra,0,:,:].detach().numpy(), cmap='viridis', aspect='auto')\n",
    "    axs[0].set_title('Input', fontsize=25)\n",
    "\n",
    "    im2 = axs[1].imshow(predictions[\"all_targets\"][muestra,0,:,:].detach().numpy(), cmap='inferno', aspect='auto')\n",
    "    axs[1].set_title('Target', fontsize=25)\n",
    "\n",
    "    im3 = axs[2].imshow(predictions[\"predictions\"][muestra,:,:].detach().numpy(), cmap='inferno', aspect='auto')\n",
    "\n",
    "    axs[2].set_title('Prediction', fontsize=25)\n",
    "\n",
    "    plt.tight_layout()\n",
    "\n",
    "    plt.show()"
   ]
  },
  {
   "cell_type": "code",
   "execution_count": null,
   "id": "45fa6923",
   "metadata": {},
   "outputs": [],
   "source": [
    "\n"
   ]
  },
  {
   "cell_type": "code",
   "execution_count": null,
   "id": "d7a586f6",
   "metadata": {},
   "outputs": [],
   "source": []
  },
  {
   "cell_type": "code",
   "execution_count": null,
   "id": "4e896934",
   "metadata": {},
   "outputs": [],
   "source": []
  },
  {
   "cell_type": "code",
   "execution_count": null,
   "id": "1634431e",
   "metadata": {},
   "outputs": [],
   "source": []
  },
  {
   "cell_type": "code",
   "execution_count": null,
   "id": "3faa8118",
   "metadata": {},
   "outputs": [],
   "source": []
  },
  {
   "cell_type": "code",
   "execution_count": null,
   "id": "47559cfc",
   "metadata": {},
   "outputs": [],
   "source": []
  },
  {
   "cell_type": "code",
   "execution_count": null,
   "id": "100da8b8",
   "metadata": {},
   "outputs": [],
   "source": []
  },
  {
   "cell_type": "code",
   "execution_count": null,
   "id": "47ac3eb2",
   "metadata": {},
   "outputs": [],
   "source": []
  }
 ],
 "metadata": {
  "kernelspec": {
   "display_name": "Python 3 (ipykernel)",
   "language": "python",
   "name": "python3"
  },
  "language_info": {
   "codemirror_mode": {
    "name": "ipython",
    "version": 3
   },
   "file_extension": ".py",
   "mimetype": "text/x-python",
   "name": "python",
   "nbconvert_exporter": "python",
   "pygments_lexer": "ipython3",
   "version": "3.9.7"
  }
 },
 "nbformat": 4,
 "nbformat_minor": 5
}
