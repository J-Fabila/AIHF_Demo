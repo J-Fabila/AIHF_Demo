{
 "cells": [
  {
   "cell_type": "code",
   "execution_count": 24,
   "id": "50da755c-2314-4376-a6f6-8602ed25f142",
   "metadata": {},
   "outputs": [],
   "source": [
    "import torch\n",
    "import matplotlib.pyplot as plt\n",
    "from ipywidgets import interact, IntSlider\n",
    "\n",
    "from torchvision import transforms\n",
    "from PIL import Image\n",
    "import matplotlib.pyplot as plt\n",
    "import pandas as pd\n",
    "import os\n",
    "import torchvision.transforms as transforms"
   ]
  },
  {
   "cell_type": "code",
   "execution_count": 7,
   "id": "1708223b-e193-4535-ad57-4d6c80096e0f",
   "metadata": {},
   "outputs": [
    {
     "data": {
      "text/plain": [
       "torch.Size([1, 256, 256])"
      ]
     },
     "execution_count": 7,
     "metadata": {},
     "output_type": "execute_result"
    }
   ],
   "source": [
    "mm=torch.load(\"data/MMs_1_reshaped.pt\")\n",
    "mm[0][\"image\"].shape"
   ]
  },
  {
   "cell_type": "code",
   "execution_count": null,
   "id": "e2d2661f-5f2f-41e9-9cb7-8825f67fe92f",
   "metadata": {},
   "outputs": [],
   "source": [
    "\n",
    "for i in range(len(mm)):\n",
    "    fig, axes = plt.subplots( figsize=(12, 6))\n",
    "    img = mm[i][\"image\"]\n",
    "    img_gt = mm[i][\"mask\"]\n",
    "    plt.imshow(img[0,:,:])\n",
    "    plt.imshow(img_gt[0,:,:])\n",
    "    \n",
    "    plt.show()"
   ]
  },
  {
   "cell_type": "code",
   "execution_count": null,
   "id": "2a418efe-e7cf-4b45-bc6d-0dd461535f87",
   "metadata": {},
   "outputs": [],
   "source": []
  },
  {
   "cell_type": "code",
   "execution_count": null,
   "id": "bbf22249-4c7f-47fb-b0e1-416863d90638",
   "metadata": {},
   "outputs": [],
   "source": []
  }
 ],
 "metadata": {
  "kernelspec": {
   "display_name": "Python 3 (ipykernel)",
   "language": "python",
   "name": "python3"
  },
  "language_info": {
   "codemirror_mode": {
    "name": "ipython",
    "version": 3
   },
   "file_extension": ".py",
   "mimetype": "text/x-python",
   "name": "python",
   "nbconvert_exporter": "python",
   "pygments_lexer": "ipython3",
   "version": "3.9.7"
  }
 },
 "nbformat": 4,
 "nbformat_minor": 5
}
